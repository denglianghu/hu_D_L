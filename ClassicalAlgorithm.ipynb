{
 "cells": [
  {
   "cell_type": "code",
   "execution_count": 5,
   "metadata": {},
   "outputs": [
    {
     "data": {
      "text/plain": [
       "[1, 2, 3, 4, 5, 6]"
      ]
     },
     "execution_count": 5,
     "metadata": {},
     "output_type": "execute_result"
    }
   ],
   "source": [
    "#插入排序\n",
    "def insert_sort(A):\n",
    "    for j in range(1,len(A)):\n",
    "        i = j-1\n",
    "        key = A[j]\n",
    "        while i >= 0 and A[i]> key:\n",
    "            A[i+1] = A[i]\n",
    "            i = i-1\n",
    "        A[i+1] = key\n",
    "    return A\n",
    "A = [5,2,4,6,1,3]\n",
    "insert_sort(A)          \n",
    "    "
   ]
  },
  {
   "cell_type": "code",
   "execution_count": 15,
   "metadata": {},
   "outputs": [
    {
     "name": "stdout",
     "output_type": "stream",
     "text": [
      "5\n",
      "-1\n"
     ]
    }
   ],
   "source": [
    "#二分查找方法一\n",
    "def binary_search(list_,item):\n",
    "    low = 0\n",
    "    high = len(list_)-1\n",
    "    while low <= high:\n",
    "        mid = (low+high)//2\n",
    "        guess = list_[mid]\n",
    "        if item == guess:\n",
    "            return mid\n",
    "        elif guess > item:\n",
    "            high = mid-1\n",
    "        else:\n",
    "            low = mid +1\n",
    "    return -1\n",
    "print(binary_search([1,4,7,8,9,12],12))\n",
    "print(binary_search([1,4,7,8,9,12],3))        "
   ]
  },
  {
   "cell_type": "code",
   "execution_count": 13,
   "metadata": {},
   "outputs": [
    {
     "name": "stdout",
     "output_type": "stream",
     "text": [
      "-1\n"
     ]
    }
   ],
   "source": [
    "#二分查找方法二\n",
    "def binary_search_2(list_,target):\n",
    "    start = 0\n",
    "    end = len(list_)-1\n",
    "    while True:\n",
    "        if end - start <=1:\n",
    "            if list_[start]==target:\n",
    "                return start\n",
    "            elif list_[end]==target:\n",
    "                return end\n",
    "            else:\n",
    "                return -1\n",
    "        mid = (start + end)//2\n",
    "        if list_[mid]==target:\n",
    "            return mid\n",
    "        elif list_[mid]>target:\n",
    "            end = mid\n",
    "        else:\n",
    "            start = mid\n",
    "    return -1\n",
    "print(binary_search_2([1,4,7,8,9,12],3))"
   ]
  },
  {
   "cell_type": "code",
   "execution_count": 6,
   "metadata": {},
   "outputs": [
    {
     "name": "stdout",
     "output_type": "stream",
     "text": [
      "8\n",
      "13\n",
      "89\n"
     ]
    }
   ],
   "source": [
    "#脚步迈台阶问题\n",
    "def climb_stairs(n):\n",
    "    if n == 1:\n",
    "        return 1\n",
    "    if n == 2:\n",
    "        return 2\n",
    "    a,b = 1,2\n",
    "    i = 1\n",
    "    while i<n-1:\n",
    "        a,b = b,a+b\n",
    "        i += 1\n",
    "    return b\n",
    "print(climb_stairs(5))\n",
    "print(climb_stairs(6))\n",
    "print(climb_stairs(10))"
   ]
  },
  {
   "cell_type": "code",
   "execution_count": null,
   "metadata": {},
   "outputs": [],
   "source": []
  }
 ],
 "metadata": {
  "kernelspec": {
   "display_name": "Python 3",
   "language": "python",
   "name": "python3"
  },
  "language_info": {
   "codemirror_mode": {
    "name": "ipython",
    "version": 3
   },
   "file_extension": ".py",
   "mimetype": "text/x-python",
   "name": "python",
   "nbconvert_exporter": "python",
   "pygments_lexer": "ipython3",
   "version": "3.6.8"
  }
 },
 "nbformat": 4,
 "nbformat_minor": 2
}
