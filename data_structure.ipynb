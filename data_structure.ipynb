{
 "cells": [
  {
   "cell_type": "code",
   "execution_count": 7,
   "metadata": {},
   "outputs": [
    {
     "data": {
      "text/plain": [
       "3"
      ]
     },
     "execution_count": 7,
     "metadata": {},
     "output_type": "execute_result"
    }
   ],
   "source": [
    "class SStack():\n",
    "    def __init__(self):\n",
    "        self._elem = []\n",
    "        \n",
    "    def is_empty(self):\n",
    "        return self._elem == []\n",
    "    def top(self):\n",
    "        if self._elem == []:\n",
    "            raise Exception(\"stack is empty\")\n",
    "        return self._elem[-1]\n",
    "    \n",
    "    def push(self,elem):\n",
    "            return self._elem.append(elem)\n",
    "    \n",
    "    def pop(self):\n",
    "        if self._elem == []:\n",
    "            raise Exception(\"stack is empty\")\n",
    "        return self._elem.pop()\n",
    "    \n",
    "    def len(self):\n",
    "        return len(self._elem)\n",
    "    \n",
    "sst = SStack()\n",
    "sst.push(1)\n",
    "sst.push(2)\n",
    "sst.push(3)\n",
    "sst.len()"
   ]
  },
  {
   "cell_type": "code",
   "execution_count": null,
   "metadata": {},
   "outputs": [],
   "source": [
    "class LNode():\n",
    "    def __init__(self,elem,next=None):\n",
    "        self.elem = elem\n",
    "        self.next = next\n"
   ]
  }
 ],
 "metadata": {
  "kernelspec": {
   "display_name": "Python 3",
   "language": "python",
   "name": "python3"
  },
  "language_info": {
   "codemirror_mode": {
    "name": "ipython",
    "version": 3
   },
   "file_extension": ".py",
   "mimetype": "text/x-python",
   "name": "python",
   "nbconvert_exporter": "python",
   "pygments_lexer": "ipython3",
   "version": "3.6.8"
  }
 },
 "nbformat": 4,
 "nbformat_minor": 2
}
